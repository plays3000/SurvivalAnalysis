{
 "cells": [
  {
   "cell_type": "code",
   "execution_count": 22,
   "id": "bd1db256",
   "metadata": {},
   "outputs": [],
   "source": [
    "#컴퓨터 비밀번호를 풀어보자\n",
    "import random\n",
    "import string"
   ]
  },
  {
   "cell_type": "code",
   "execution_count": 26,
   "id": "5c9f0235",
   "metadata": {},
   "outputs": [],
   "source": [
    "password='brad1234'\n",
    "min_len=2\n",
    "max_len=10\n",
    "\n",
    "#엄마도기억력에 한계가 있어서 최대, 최소 자릿수를 지정하였다.\n",
    "def generate_word(length):\n",
    "    result=''   \n",
    "    x=''.join(random.sample(string.ascii_letters+string.digits,k=length))\n",
    "    return x"
   ]
  },
  {
   "cell_type": "code",
   "execution_count": 27,
   "id": "53a81d52",
   "metadata": {},
   "outputs": [],
   "source": [
    "#옛날 옛적 태초의 지구에 빛이 있으라하여 첫번째 세대가 태어났다.\n",
    "def generate_population(size,min_len,max_len):\n",
    "    population=[]\n",
    "    for i in range(size):\n",
    "        length=i%(max_len-min_len+1)+min_len\n",
    "        population.append(generate_word(length))\n",
    "    return population"
   ]
  },
  {
   "cell_type": "code",
   "execution_count": 29,
   "id": "947af3ab",
   "metadata": {},
   "outputs": [
    {
     "name": "stdout",
     "output_type": "stream",
     "text": [
      "yLsT6ZEe4f\n",
      "['H3', '6ce', 'oict', 'aW2Cv', '3kZj9P', 'DxGy5H7', 'cKfRYZHW', 'MeVB5WnsI', '5MA0E2Yy8L', 'o2', '3Zb', 'Q4aV', 'ltGKq', 'veF3q0', 'tXAyZ6d', 'kP7ipsU1', 'vdcEAjFMT', 'fRSjZwAcND', 'yD', 'dgE', 'Xjbc', 'MNiOu', 'gSJPwm', 'yYX7Fhd', 'NSD9OvPh', 'RTNsY2iyZ', 's6V3RZhHYm', 'cY', 'zCx', 'WmDw', 'YOe9c', '57cFqb', '8HQK64n', 'ofX045O7', 'GSHA9thjB', '5KBfgAe94X', 'jU', '9bY', 'CBRA', 'bF639', 'uUqfwe', 'hwSb85l', 'a1o0xeMj', 'na9QRUhV8', 'sxSbMo2jlD', 'hE', 'wT9', 'qib9', 'nxvE9', 's974JO', 'ulLfgI7', 'tky5jiZo', 'uGp7WlsxA', 'Qc3iMbzeS2', 'iA', 'tJA', 'V7jL', 'BtOwf', 'pCOx7H', 'dyAa7Uu', 'CnxsEflY', 'grhJMSjY4', 'C7zlXAB6pD', 'v7', 'Hjw', 'DOfE', 'Wnsa1', 'SCNDan', 'thXO9IM', 'jBTWEfRF', 'WoI9zrObh', 'r4QcaqzHLT', 'zC', 'gVq', 'ws3W', 'R6mMf', 'ceYqtI', 'vhH3pWk', 'eA3s6HiK', 'HOnIgA86z', 'VX5YrsCxKO', 'ik', 'hSy', 'zLDi', 'JQtwO', 'EVAn9F', 'SGuFPdC', 'tjVFd4Nn', 'bwEz4a2He', 'R3f9VQzaxc', 'hN', 'ar3', 'OSsU', '5ojWK', 'smgBDT', 'vyk9APR', 'BjCT8Hui', 'n6lCwYyBZ', 'FyUoYmCnLT', 'd5']\n"
     ]
    }
   ],
   "source": [
    "print(generate_word(length=10))\n",
    "pop=generate_population(size=100,min_len=min_len,max_len=max_len)\n",
    "print(pop)"
   ]
  },
  {
   "cell_type": "markdown",
   "id": "17a938aa",
   "metadata": {},
   "source": [
    "**Fitness Function**"
   ]
  },
  {
   "cell_type": "code",
   "execution_count": 35,
   "id": "d1a34d20",
   "metadata": {},
   "outputs": [
    {
     "data": {
      "text/plain": [
       "0"
      ]
     },
     "execution_count": 35,
     "metadata": {},
     "output_type": "execute_result"
    }
   ],
   "source": [
    "def fitness(password,test_word):\n",
    "    score=0\n",
    "    if len(password)!=len(test_word):\n",
    "        return score\n",
    "    len_score=0.5                        #만약 길이가 일치한다면 0.5점 부여\n",
    "    score+=len_score\n",
    "    for i in range(len(password)):\n",
    "        if password[i]==test_word[i]:\n",
    "            score+=1\n",
    "    return score/(len(password)+len_score)*100\n",
    "\n",
    "fitness(password,'br51235')\n"
   ]
  },
  {
   "cell_type": "markdown",
   "id": "dec22e85",
   "metadata": {},
   "source": [
    "**Compute Performance and Select Survivors**"
   ]
  },
  {
   "cell_type": "code",
   "execution_count": 37,
   "id": "c0d34cc7",
   "metadata": {},
   "outputs": [],
   "source": [
    "def compute_performance(population,password):\n",
    "    performance_list=[]\n",
    "    for individual in population:\n",
    "        score=fitness(password,individual)\n",
    "        # 우리는 이제 비밀번호 길이를 예측할 수 있습니다.\n",
    "        if score>0:\n",
    "            pred_len=len(individual)\n",
    "        performance_list.append([individual,score])\n",
    "        #sorted(list,key,reverse=True)>>>list를 key를 기준으로 내림차순 정렬\n",
    "    population_sorted=sorted(performance_list,key=lambda x: x[1], reverse=True)\n",
    "    return population_sorted,pred_len"
   ]
  },
  {
   "cell_type": "code",
   "execution_count": null,
   "id": "36c0208b",
   "metadata": {},
   "outputs": [],
   "source": []
  }
 ],
 "metadata": {
  "kernelspec": {
   "display_name": "[stroke_survival]",
   "language": "python",
   "name": "stroke_project"
  },
  "language_info": {
   "codemirror_mode": {
    "name": "ipython",
    "version": 3
   },
   "file_extension": ".py",
   "mimetype": "text/x-python",
   "name": "python",
   "nbconvert_exporter": "python",
   "pygments_lexer": "ipython3",
   "version": "3.10.4"
  }
 },
 "nbformat": 4,
 "nbformat_minor": 5
}
