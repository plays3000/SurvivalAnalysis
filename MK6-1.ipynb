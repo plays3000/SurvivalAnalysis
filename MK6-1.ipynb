{
 "cells": [
  {
   "cell_type": "code",
   "execution_count": 1,
   "id": "e1ead773",
   "metadata": {},
   "outputs": [
    {
     "name": "stderr",
     "output_type": "stream",
     "text": [
      "C:\\Users\\plays\\AppData\\Local\\Temp\\ipykernel_6688\\3290606665.py:48: SettingWithCopyWarning: \n",
      "A value is trying to be set on a copy of a slice from a DataFrame.\n",
      "Try using .loc[row_indexer,col_indexer] = value instead\n",
      "\n",
      "See the caveats in the documentation: https://pandas.pydata.org/pandas-docs/stable/user_guide/indexing.html#returning-a-view-versus-a-copy\n",
      "  globals()['label'+str(i)]['Status']=globals()['label'+str(i)]['Status'].apply(lambda x: get_boolean(x))\n",
      "C:\\Users\\plays\\AppData\\Local\\Temp\\ipykernel_6688\\3290606665.py:49: SettingWithCopyWarning: \n",
      "A value is trying to be set on a copy of a slice from a DataFrame\n",
      "\n",
      "See the caveats in the documentation: https://pandas.pydata.org/pandas-docs/stable/user_guide/indexing.html#returning-a-view-versus-a-copy\n",
      "  globals()['label'+str(i)]['Dur_Event_day'].fillna(0,inplace=True)\n",
      "C:\\Users\\plays\\AppData\\Local\\Temp\\ipykernel_6688\\3290606665.py:50: SettingWithCopyWarning: \n",
      "A value is trying to be set on a copy of a slice from a DataFrame\n",
      "\n",
      "See the caveats in the documentation: https://pandas.pydata.org/pandas-docs/stable/user_guide/indexing.html#returning-a-view-versus-a-copy\n",
      "  globals()['label'+str(i)]['Dur_Censored_day'].fillna(0,inplace=True)\n",
      "C:\\Users\\plays\\AppData\\Local\\Temp\\ipykernel_6688\\3290606665.py:53: SettingWithCopyWarning: \n",
      "A value is trying to be set on a copy of a slice from a DataFrame.\n",
      "Try using .loc[row_indexer,col_indexer] = value instead\n",
      "\n",
      "See the caveats in the documentation: https://pandas.pydata.org/pandas-docs/stable/user_guide/indexing.html#returning-a-view-versus-a-copy\n",
      "  globals()['label'+str(i)]['Duration']=globals()['label'+str(i)]['Dur_Censored_day']+globals()['label'+str(i)]['Dur_Event_day']\n",
      "C:\\Users\\plays\\AppData\\Local\\Temp\\ipykernel_6688\\3290606665.py:54: SettingWithCopyWarning: \n",
      "A value is trying to be set on a copy of a slice from a DataFrame\n",
      "\n",
      "See the caveats in the documentation: https://pandas.pydata.org/pandas-docs/stable/user_guide/indexing.html#returning-a-view-versus-a-copy\n",
      "  globals()['label'+str(i)].drop(['Dur_Event_day','Dur_Censored_day'],axis=1, inplace=True)\n",
      "C:\\Users\\plays\\AppData\\Local\\Temp\\ipykernel_6688\\3290606665.py:48: SettingWithCopyWarning: \n",
      "A value is trying to be set on a copy of a slice from a DataFrame.\n",
      "Try using .loc[row_indexer,col_indexer] = value instead\n",
      "\n",
      "See the caveats in the documentation: https://pandas.pydata.org/pandas-docs/stable/user_guide/indexing.html#returning-a-view-versus-a-copy\n",
      "  globals()['label'+str(i)]['Status']=globals()['label'+str(i)]['Status'].apply(lambda x: get_boolean(x))\n",
      "C:\\Users\\plays\\AppData\\Local\\Temp\\ipykernel_6688\\3290606665.py:49: SettingWithCopyWarning: \n",
      "A value is trying to be set on a copy of a slice from a DataFrame\n",
      "\n",
      "See the caveats in the documentation: https://pandas.pydata.org/pandas-docs/stable/user_guide/indexing.html#returning-a-view-versus-a-copy\n",
      "  globals()['label'+str(i)]['Dur_Event_day'].fillna(0,inplace=True)\n",
      "C:\\Users\\plays\\AppData\\Local\\Temp\\ipykernel_6688\\3290606665.py:50: SettingWithCopyWarning: \n",
      "A value is trying to be set on a copy of a slice from a DataFrame\n",
      "\n",
      "See the caveats in the documentation: https://pandas.pydata.org/pandas-docs/stable/user_guide/indexing.html#returning-a-view-versus-a-copy\n",
      "  globals()['label'+str(i)]['Dur_Censored_day'].fillna(0,inplace=True)\n",
      "C:\\Users\\plays\\AppData\\Local\\Temp\\ipykernel_6688\\3290606665.py:53: SettingWithCopyWarning: \n",
      "A value is trying to be set on a copy of a slice from a DataFrame.\n",
      "Try using .loc[row_indexer,col_indexer] = value instead\n",
      "\n",
      "See the caveats in the documentation: https://pandas.pydata.org/pandas-docs/stable/user_guide/indexing.html#returning-a-view-versus-a-copy\n",
      "  globals()['label'+str(i)]['Duration']=globals()['label'+str(i)]['Dur_Censored_day']+globals()['label'+str(i)]['Dur_Event_day']\n",
      "C:\\Users\\plays\\AppData\\Local\\Temp\\ipykernel_6688\\3290606665.py:54: SettingWithCopyWarning: \n",
      "A value is trying to be set on a copy of a slice from a DataFrame\n",
      "\n",
      "See the caveats in the documentation: https://pandas.pydata.org/pandas-docs/stable/user_guide/indexing.html#returning-a-view-versus-a-copy\n",
      "  globals()['label'+str(i)].drop(['Dur_Event_day','Dur_Censored_day'],axis=1, inplace=True)\n",
      "C:\\Users\\plays\\AppData\\Local\\Temp\\ipykernel_6688\\3290606665.py:48: SettingWithCopyWarning: \n",
      "A value is trying to be set on a copy of a slice from a DataFrame.\n",
      "Try using .loc[row_indexer,col_indexer] = value instead\n",
      "\n",
      "See the caveats in the documentation: https://pandas.pydata.org/pandas-docs/stable/user_guide/indexing.html#returning-a-view-versus-a-copy\n",
      "  globals()['label'+str(i)]['Status']=globals()['label'+str(i)]['Status'].apply(lambda x: get_boolean(x))\n",
      "C:\\Users\\plays\\AppData\\Local\\Temp\\ipykernel_6688\\3290606665.py:49: SettingWithCopyWarning: \n",
      "A value is trying to be set on a copy of a slice from a DataFrame\n",
      "\n",
      "See the caveats in the documentation: https://pandas.pydata.org/pandas-docs/stable/user_guide/indexing.html#returning-a-view-versus-a-copy\n",
      "  globals()['label'+str(i)]['Dur_Event_day'].fillna(0,inplace=True)\n",
      "C:\\Users\\plays\\AppData\\Local\\Temp\\ipykernel_6688\\3290606665.py:50: SettingWithCopyWarning: \n",
      "A value is trying to be set on a copy of a slice from a DataFrame\n",
      "\n",
      "See the caveats in the documentation: https://pandas.pydata.org/pandas-docs/stable/user_guide/indexing.html#returning-a-view-versus-a-copy\n",
      "  globals()['label'+str(i)]['Dur_Censored_day'].fillna(0,inplace=True)\n",
      "C:\\Users\\plays\\AppData\\Local\\Temp\\ipykernel_6688\\3290606665.py:53: SettingWithCopyWarning: \n",
      "A value is trying to be set on a copy of a slice from a DataFrame.\n",
      "Try using .loc[row_indexer,col_indexer] = value instead\n",
      "\n",
      "See the caveats in the documentation: https://pandas.pydata.org/pandas-docs/stable/user_guide/indexing.html#returning-a-view-versus-a-copy\n",
      "  globals()['label'+str(i)]['Duration']=globals()['label'+str(i)]['Dur_Censored_day']+globals()['label'+str(i)]['Dur_Event_day']\n",
      "C:\\Users\\plays\\AppData\\Local\\Temp\\ipykernel_6688\\3290606665.py:54: SettingWithCopyWarning: \n",
      "A value is trying to be set on a copy of a slice from a DataFrame\n",
      "\n",
      "See the caveats in the documentation: https://pandas.pydata.org/pandas-docs/stable/user_guide/indexing.html#returning-a-view-versus-a-copy\n",
      "  globals()['label'+str(i)].drop(['Dur_Event_day','Dur_Censored_day'],axis=1, inplace=True)\n",
      "C:\\Users\\plays\\AppData\\Local\\Temp\\ipykernel_6688\\3290606665.py:48: SettingWithCopyWarning: \n",
      "A value is trying to be set on a copy of a slice from a DataFrame.\n",
      "Try using .loc[row_indexer,col_indexer] = value instead\n",
      "\n",
      "See the caveats in the documentation: https://pandas.pydata.org/pandas-docs/stable/user_guide/indexing.html#returning-a-view-versus-a-copy\n",
      "  globals()['label'+str(i)]['Status']=globals()['label'+str(i)]['Status'].apply(lambda x: get_boolean(x))\n",
      "C:\\Users\\plays\\AppData\\Local\\Temp\\ipykernel_6688\\3290606665.py:49: SettingWithCopyWarning: \n",
      "A value is trying to be set on a copy of a slice from a DataFrame\n",
      "\n",
      "See the caveats in the documentation: https://pandas.pydata.org/pandas-docs/stable/user_guide/indexing.html#returning-a-view-versus-a-copy\n",
      "  globals()['label'+str(i)]['Dur_Event_day'].fillna(0,inplace=True)\n",
      "C:\\Users\\plays\\AppData\\Local\\Temp\\ipykernel_6688\\3290606665.py:50: SettingWithCopyWarning: \n",
      "A value is trying to be set on a copy of a slice from a DataFrame\n",
      "\n",
      "See the caveats in the documentation: https://pandas.pydata.org/pandas-docs/stable/user_guide/indexing.html#returning-a-view-versus-a-copy\n",
      "  globals()['label'+str(i)]['Dur_Censored_day'].fillna(0,inplace=True)\n",
      "C:\\Users\\plays\\AppData\\Local\\Temp\\ipykernel_6688\\3290606665.py:53: SettingWithCopyWarning: \n",
      "A value is trying to be set on a copy of a slice from a DataFrame.\n",
      "Try using .loc[row_indexer,col_indexer] = value instead\n",
      "\n",
      "See the caveats in the documentation: https://pandas.pydata.org/pandas-docs/stable/user_guide/indexing.html#returning-a-view-versus-a-copy\n",
      "  globals()['label'+str(i)]['Duration']=globals()['label'+str(i)]['Dur_Censored_day']+globals()['label'+str(i)]['Dur_Event_day']\n",
      "C:\\Users\\plays\\AppData\\Local\\Temp\\ipykernel_6688\\3290606665.py:54: SettingWithCopyWarning: \n",
      "A value is trying to be set on a copy of a slice from a DataFrame\n",
      "\n",
      "See the caveats in the documentation: https://pandas.pydata.org/pandas-docs/stable/user_guide/indexing.html#returning-a-view-versus-a-copy\n",
      "  globals()['label'+str(i)].drop(['Dur_Event_day','Dur_Censored_day'],axis=1, inplace=True)\n"
     ]
    },
    {
     "name": "stderr",
     "output_type": "stream",
     "text": [
      "C:\\Users\\plays\\AppData\\Local\\Temp\\ipykernel_6688\\3290606665.py:48: SettingWithCopyWarning: \n",
      "A value is trying to be set on a copy of a slice from a DataFrame.\n",
      "Try using .loc[row_indexer,col_indexer] = value instead\n",
      "\n",
      "See the caveats in the documentation: https://pandas.pydata.org/pandas-docs/stable/user_guide/indexing.html#returning-a-view-versus-a-copy\n",
      "  globals()['label'+str(i)]['Status']=globals()['label'+str(i)]['Status'].apply(lambda x: get_boolean(x))\n",
      "C:\\Users\\plays\\AppData\\Local\\Temp\\ipykernel_6688\\3290606665.py:49: SettingWithCopyWarning: \n",
      "A value is trying to be set on a copy of a slice from a DataFrame\n",
      "\n",
      "See the caveats in the documentation: https://pandas.pydata.org/pandas-docs/stable/user_guide/indexing.html#returning-a-view-versus-a-copy\n",
      "  globals()['label'+str(i)]['Dur_Event_day'].fillna(0,inplace=True)\n",
      "C:\\Users\\plays\\AppData\\Local\\Temp\\ipykernel_6688\\3290606665.py:50: SettingWithCopyWarning: \n",
      "A value is trying to be set on a copy of a slice from a DataFrame\n",
      "\n",
      "See the caveats in the documentation: https://pandas.pydata.org/pandas-docs/stable/user_guide/indexing.html#returning-a-view-versus-a-copy\n",
      "  globals()['label'+str(i)]['Dur_Censored_day'].fillna(0,inplace=True)\n",
      "C:\\Users\\plays\\AppData\\Local\\Temp\\ipykernel_6688\\3290606665.py:53: SettingWithCopyWarning: \n",
      "A value is trying to be set on a copy of a slice from a DataFrame.\n",
      "Try using .loc[row_indexer,col_indexer] = value instead\n",
      "\n",
      "See the caveats in the documentation: https://pandas.pydata.org/pandas-docs/stable/user_guide/indexing.html#returning-a-view-versus-a-copy\n",
      "  globals()['label'+str(i)]['Duration']=globals()['label'+str(i)]['Dur_Censored_day']+globals()['label'+str(i)]['Dur_Event_day']\n",
      "C:\\Users\\plays\\AppData\\Local\\Temp\\ipykernel_6688\\3290606665.py:54: SettingWithCopyWarning: \n",
      "A value is trying to be set on a copy of a slice from a DataFrame\n",
      "\n",
      "See the caveats in the documentation: https://pandas.pydata.org/pandas-docs/stable/user_guide/indexing.html#returning-a-view-versus-a-copy\n",
      "  globals()['label'+str(i)].drop(['Dur_Event_day','Dur_Censored_day'],axis=1, inplace=True)\n"
     ]
    }
   ],
   "source": [
    "import pandas as pd\n",
    "import numpy as np\n",
    "import matplotlib.pyplot as plt\n",
    "from sklearn.preprocessing import LabelEncoder,MinMaxScaler\n",
    "df=pd.read_csv('C:/Users/plays/Hospital_project/ver_2_imputated_selected.csv')\n",
    "df['Beat'].fillna('NA', inplace=True)\n",
    "\n",
    "df_pos=df[df['Status']==1]\n",
    "df_neg=df[df['Status']==0]\n",
    "\n",
    "df_neg1=df_neg.iloc[0:75]\n",
    "df_neg2=df_neg.iloc[75:148]\n",
    "df_neg3=df_neg.iloc[148:216]\n",
    "df_neg4=df_neg.iloc[216:284]\n",
    "df_neg5=df_neg.iloc[284:361]\n",
    "\n",
    "df1=pd.concat([df_pos,df_neg1])\n",
    "df2=pd.concat([df_pos,df_neg2])\n",
    "df3=pd.concat([df_pos,df_neg3])\n",
    "df4=pd.concat([df_pos,df_neg4])\n",
    "df5=pd.concat([df_pos,df_neg5])\n",
    "\n",
    "def labelencoder(df):                                     #It convert the catorigcal and string data into numerical values to \n",
    "    for c in df.columns:                                        #interperate easily.\n",
    "        if df[c].dtype=='object': \n",
    "            lbl = LabelEncoder()\n",
    "            lbl.fit(list(df[c].values))\n",
    "            df[c] = lbl.transform(df[c].values)\n",
    "    return df\n",
    "\n",
    "def get_boolean(x):\n",
    "  value=''\n",
    "  if x==0: value=False\n",
    "  elif x==1: value=True\n",
    "  return value\n",
    "\n",
    "scaler=MinMaxScaler()\n",
    "\n",
    "for i in range(1,6):\n",
    "  globals()['feature'+str(i)]=globals()['df'+str(i)].drop(['Temp_No','Cancer.1','Status','Dur_Event_day','Dur_Censored_day'],axis=1)\n",
    "  globals()['feature'+str(i)]=labelencoder(globals()['feature'+str(i)])  \n",
    "  globals()['feature'+str(i)]=abs(globals()['feature'+str(i)])\n",
    "\n",
    "  ft=scaler.fit_transform(globals()['feature'+str(i)])\n",
    "  globals()['feature'+str(i)]=pd.DataFrame(ft, columns=globals()['feature'+str(i)].columns)\n",
    "  \n",
    "  globals()['label'+str(i)]=globals()['df'+str(i)][['Status','Dur_Event_day','Dur_Censored_day']]\n",
    "  globals()['label'+str(i)]['Status']=globals()['label'+str(i)]['Status'].apply(lambda x: get_boolean(x))\n",
    "  globals()['label'+str(i)]['Dur_Event_day'].fillna(0,inplace=True)\n",
    "  globals()['label'+str(i)]['Dur_Censored_day'].fillna(0,inplace=True)\n",
    "\n",
    "  globals()['clf_label'+str(i)]=globals()['df'+str(i)][['Status']]\n",
    "  globals()['label'+str(i)]['Duration']=globals()['label'+str(i)]['Dur_Censored_day']+globals()['label'+str(i)]['Dur_Event_day']\n",
    "  globals()['label'+str(i)].drop(['Dur_Event_day','Dur_Censored_day'],axis=1, inplace=True)\n",
    "  \n",
    "  status=list(globals()['label'+str(i)]['Status'].values)\n",
    "  duration=list(globals()['label'+str(i)]['Duration'].values.astype(int))\n",
    "  globals()['st_label'+str(i)]=np.array([(status[0],duration[0])], dtype=[('Status','?'),('Duration','<f8')])\n",
    "  for c in range(1,len(globals()['label'+str(i)].index)):\n",
    "    lbl=np.array([(status[c],duration[c])], dtype=[('Status','?'),('Duration','<f8')])\n",
    "    globals()['st_label'+str(i)]=np.append(globals()['st_label'+str(i)],lbl,axis=0)\n"
   ]
  },
  {
   "cell_type": "code",
   "execution_count": 57,
   "id": "a1efaa83",
   "metadata": {},
   "outputs": [
    {
     "name": "stderr",
     "output_type": "stream",
     "text": [
      "C:\\Users\\plays\\AppData\\Local\\Temp\\ipykernel_6688\\3743882613.py:20: SettingWithCopyWarning: \n",
      "A value is trying to be set on a copy of a slice from a DataFrame\n",
      "\n",
      "See the caveats in the documentation: https://pandas.pydata.org/pandas-docs/stable/user_guide/indexing.html#returning-a-view-versus-a-copy\n",
      "  label['Dur_Event_day'].fillna(0,inplace=True)\n",
      "C:\\Users\\plays\\AppData\\Local\\Temp\\ipykernel_6688\\3743882613.py:21: SettingWithCopyWarning: \n",
      "A value is trying to be set on a copy of a slice from a DataFrame\n",
      "\n",
      "See the caveats in the documentation: https://pandas.pydata.org/pandas-docs/stable/user_guide/indexing.html#returning-a-view-versus-a-copy\n",
      "  label['Dur_Censored_day'].fillna(0,inplace=True)\n",
      "C:\\Users\\plays\\AppData\\Local\\Temp\\ipykernel_6688\\3743882613.py:28: SettingWithCopyWarning: \n",
      "A value is trying to be set on a copy of a slice from a DataFrame.\n",
      "Try using .loc[row_indexer,col_indexer] = value instead\n",
      "\n",
      "See the caveats in the documentation: https://pandas.pydata.org/pandas-docs/stable/user_guide/indexing.html#returning-a-view-versus-a-copy\n",
      "  label['Status']=label['Status'].apply(lambda x: get_boolean(x))\n",
      "C:\\Users\\plays\\AppData\\Local\\Temp\\ipykernel_6688\\3743882613.py:30: SettingWithCopyWarning: \n",
      "A value is trying to be set on a copy of a slice from a DataFrame.\n",
      "Try using .loc[row_indexer,col_indexer] = value instead\n",
      "\n",
      "See the caveats in the documentation: https://pandas.pydata.org/pandas-docs/stable/user_guide/indexing.html#returning-a-view-versus-a-copy\n",
      "  label['Duration']=label['Dur_Censored_day']+label['Dur_Event_day']\n",
      "C:\\Users\\plays\\AppData\\Local\\Temp\\ipykernel_6688\\3743882613.py:31: SettingWithCopyWarning: \n",
      "A value is trying to be set on a copy of a slice from a DataFrame\n",
      "\n",
      "See the caveats in the documentation: https://pandas.pydata.org/pandas-docs/stable/user_guide/indexing.html#returning-a-view-versus-a-copy\n",
      "  label.drop(['Dur_Event_day','Dur_Censored_day'],axis=1, inplace=True)\n"
     ]
    }
   ],
   "source": [
    "from sklearn.preprocessing import LabelEncoder,MinMaxScaler\n",
    "\n",
    "feature=df.drop(['Temp_No','Cancer.1','Status','Dur_Event_day','Dur_Censored_day'],axis=1)\n",
    "def labelencoder(df):                                     #It convert the catorigcal and string data into numerical values to \n",
    "    for c in df.columns:                                        #interperate easily.\n",
    "        if df[c].dtype=='object': \n",
    "            lbl = LabelEncoder()\n",
    "            lbl.fit(list(df[c].values))\n",
    "            df[c] = lbl.transform(df[c].values)\n",
    "    return df\n",
    "\n",
    "feature=labelencoder(feature)  \n",
    "feature=abs(feature)\n",
    "scaler=MinMaxScaler()\n",
    "ft=scaler.fit_transform(feature)\n",
    "feature=pd.DataFrame(ft, columns=feature.columns)\n",
    "feature\n",
    "\n",
    "label=df[['Status','Dur_Event_day','Dur_Censored_day']]\n",
    "label['Dur_Event_day'].fillna(0,inplace=True)\n",
    "label['Dur_Censored_day'].fillna(0,inplace=True)\n",
    "def get_boolean(x):\n",
    "  value=''\n",
    "  if x==0: value=False\n",
    "  elif x==1: value=True\n",
    "  return value\n",
    "\n",
    "label['Status']=label['Status'].apply(lambda x: get_boolean(x))\n",
    "\n",
    "label['Duration']=label['Dur_Censored_day']+label['Dur_Event_day']\n",
    "label.drop(['Dur_Event_day','Dur_Censored_day'],axis=1, inplace=True)\n",
    "\n",
    "label1=df['Status']"
   ]
  },
  {
   "cell_type": "code",
   "execution_count": 6,
   "id": "5e9cdfe4",
   "metadata": {},
   "outputs": [
    {
     "data": {
      "text/plain": [
       "<AxesSubplot:xlabel='n'>"
      ]
     },
     "execution_count": 6,
     "metadata": {},
     "output_type": "execute_result"
    },
    {
     "data": {
      "image/png": "[encoded data removed]",
      "text/plain": [
       "<Figure size 432x288 with 1 Axes>"
      ]
     },
     "metadata": {
      "needs_background": "light"
     },
     "output_type": "display_data"
    }
   ],
   "source": [
    "from xgboost import XGBClassifier\n",
    "from sklearn.ensemble import RandomForestClassifier\n",
    "from sklearn.model_selection import train_test_split\n",
    "from sklearn.metrics import classification_report,accuracy_score\n",
    "from sklearn.metrics import zero_one_loss\n",
    "from sklearn.model_selection import KFold,GridSearchCV\n",
    "import warnings\n",
    "warnings.simplefilter('ignore')\n",
    "\n",
    "X_train,X_test,y_train,y_test=train_test_split(feature1,clf_label1,stratify=clf_label1,random_state=10,test_size=0.2)\n",
    "oob_scores=[]\n",
    "for n in range(1,501):\n",
    "    n_estimators=n\n",
    "    model=RandomForestClassifier(n_estimators=n, criterion='entropy',max_depth=5,random_state=10,oob_score=True)\n",
    "    model.fit(X_train,y_train)\n",
    "    oob_scores.append(model.oob_score_)\n",
    "data=pd.DataFrame({'n':n, 'oob_score':oob_scores})\n",
    "data.plot(x='n',y='oob_score')"
   ]
  },
  {
   "cell_type": "code",
   "execution_count": 10,
   "id": "e622f655",
   "metadata": {},
   "outputs": [
    {
     "data": {
      "text/plain": [
       "<AxesSubplot:xlabel='n'>"
      ]
     },
     "execution_count": 10,
     "metadata": {},
     "output_type": "execute_result"
    },
    {
     "data": {
      "image/png": "[encoded data removed]",
      "text/plain": [
       "<Figure size 432x288 with 1 Axes>"
      ]
     },
     "metadata": {
      "needs_background": "light"
     },
     "output_type": "display_data"
    }
   ],
   "source": [
    "data=pd.DataFrame({'n':np.arange(1,500), 'oob_score':oob_scores})\n",
    "data.plot(x='n',y='oob_score')"
   ]
  },
  {
   "cell_type": "code",
   "execution_count": 11,
   "id": "d748f190",
   "metadata": {},
   "outputs": [
    {
     "data": {
      "text/plain": [
       "<AxesSubplot:xlabel='n'>"
      ]
     },
     "execution_count": 11,
     "metadata": {},
     "output_type": "execute_result"
    },
    {
     "data": {
      "image/png": "[encoded data removed]",
      "text/plain": [
       "<Figure size 432x288 with 1 Axes>"
      ]
     },
     "metadata": {
      "needs_background": "light"
     },
     "output_type": "display_data"
    }
   ],
   "source": [
    "X_train,X_test,y_train,y_test=train_test_split(feature4,clf_label4,stratify=clf_label4,random_state=10,test_size=0.2)\n",
    "oob_scores=[]\n",
    "for n in range(1,501):\n",
    "    n_estimators=n\n",
    "    model=RandomForestClassifier(n_estimators=n, criterion='entropy',max_depth=5,random_state=10,oob_score=True)\n",
    "    model.fit(X_train,y_train)\n",
    "    oob_scores.append(model.oob_score_)\n",
    "data=pd.DataFrame({'n':np.arange(1,501), 'oob_score':oob_scores})\n",
    "data.plot(x='n',y='oob_score')"
   ]
  },
  {
   "cell_type": "code",
   "execution_count": 71,
   "id": "161ff4a0",
   "metadata": {},
   "outputs": [
    {
     "name": "stdout",
     "output_type": "stream",
     "text": [
      "SMOTE 적용 전 학습용 피처/레이블 데이터 세트:  (461, 36) (461,)\n",
      "SMOTE 적용 후 학습용 피처/레이블 데이터 세트:  (622, 36) (622,)\n",
      "SMOTE 적용 후 레이블 값 분포: \n",
      " 1    311\n",
      "0    311\n",
      "Name: Status, dtype: int64\n"
     ]
    }
   ],
   "source": [
    "from imblearn.over_sampling import BorderlineSMOTE,ADASYN,SMOTE,SVMSMOTE\n",
    "from sklearn.model_selection import train_test_split\n",
    "smote = SMOTE(random_state=40,sampling_strategy='minority')\n",
    "X_train,X_test,y_train,y_test=train_test_split(feature,label1,test_size=0.2,stratify=label1,random_state=42)\n",
    "X_train_over,y_train_over = smote.fit_resample(X_train,y_train)\n",
    "\n",
    "print('SMOTE 적용 전 학습용 피처/레이블 데이터 세트: ', feature.shape, label1.shape)\n",
    "print('SMOTE 적용 후 학습용 피처/레이블 데이터 세트: ', X_train_over.shape, y_train_over.shape)\n",
    "print('SMOTE 적용 후 레이블 값 분포: \\n', pd.Series(y_train_over).value_counts())"
   ]
  },
  {
   "cell_type": "code",
   "execution_count": 74,
   "id": "03c89a2e",
   "metadata": {},
   "outputs": [
    {
     "name": "stdout",
     "output_type": "stream",
     "text": [
      "0.7419354838709677\n",
      "              precision    recall  f1-score   support\n",
      "\n",
      "           0       0.82      0.87      0.84        75\n",
      "           1       0.29      0.22      0.25        18\n",
      "\n",
      "    accuracy                           0.74        93\n",
      "   macro avg       0.55      0.54      0.55        93\n",
      "weighted avg       0.72      0.74      0.73        93\n",
      "\n"
     ]
    }
   ],
   "source": [
    "from sklearn.metrics import classification_report,accuracy_score\n",
    "from sklearn.ensemble import RandomForestClassifier\n",
    "\n",
    "model=RandomForestClassifier(n_estimators=50,max_depth=5,random_state=10,oob_score=True)\n",
    "model.fit(X_train_over,y_train_over)\n",
    "pred=model.predict(X_test)\n",
    "accuracy=accuracy_score(pred,y_test)\n",
    "report=classification_report(pred,y_test)\n",
    "print(accuracy)\n",
    "print(report)"
   ]
  },
  {
   "cell_type": "code",
   "execution_count": 81,
   "id": "4462216c",
   "metadata": {},
   "outputs": [
    {
     "name": "stderr",
     "output_type": "stream",
     "text": [
      "C:\\Users\\plays\\anaconda3\\envs\\stroke_project\\lib\\site-packages\\sklearn\\ensemble\\_forest.py:586: UserWarning: Some inputs do not have OOB scores. This probably means too few trees were used to compute any reliable OOB estimates.\n",
      "  warn(\n",
      "C:\\Users\\plays\\anaconda3\\envs\\stroke_project\\lib\\site-packages\\sklearn\\ensemble\\_forest.py:586: UserWarning: Some inputs do not have OOB scores. This probably means too few trees were used to compute any reliable OOB estimates.\n",
      "  warn(\n",
      "C:\\Users\\plays\\anaconda3\\envs\\stroke_project\\lib\\site-packages\\sklearn\\ensemble\\_forest.py:586: UserWarning: Some inputs do not have OOB scores. This probably means too few trees were used to compute any reliable OOB estimates.\n",
      "  warn(\n",
      "C:\\Users\\plays\\anaconda3\\envs\\stroke_project\\lib\\site-packages\\sklearn\\ensemble\\_forest.py:586: UserWarning: Some inputs do not have OOB scores. This probably means too few trees were used to compute any reliable OOB estimates.\n",
      "  warn(\n",
      "C:\\Users\\plays\\anaconda3\\envs\\stroke_project\\lib\\site-packages\\sklearn\\ensemble\\_forest.py:586: UserWarning: Some inputs do not have OOB scores. This probably means too few trees were used to compute any reliable OOB estimates.\n",
      "  warn(\n",
      "C:\\Users\\plays\\anaconda3\\envs\\stroke_project\\lib\\site-packages\\sklearn\\ensemble\\_forest.py:586: UserWarning: Some inputs do not have OOB scores. This probably means too few trees were used to compute any reliable OOB estimates.\n",
      "  warn(\n",
      "C:\\Users\\plays\\anaconda3\\envs\\stroke_project\\lib\\site-packages\\sklearn\\ensemble\\_forest.py:586: UserWarning: Some inputs do not have OOB scores. This probably means too few trees were used to compute any reliable OOB estimates.\n",
      "  warn(\n",
      "C:\\Users\\plays\\anaconda3\\envs\\stroke_project\\lib\\site-packages\\sklearn\\ensemble\\_forest.py:586: UserWarning: Some inputs do not have OOB scores. This probably means too few trees were used to compute any reliable OOB estimates.\n",
      "  warn(\n",
      "C:\\Users\\plays\\anaconda3\\envs\\stroke_project\\lib\\site-packages\\sklearn\\ensemble\\_forest.py:586: UserWarning: Some inputs do not have OOB scores. This probably means too few trees were used to compute any reliable OOB estimates.\n",
      "  warn(\n",
      "C:\\Users\\plays\\anaconda3\\envs\\stroke_project\\lib\\site-packages\\sklearn\\ensemble\\_forest.py:586: UserWarning: Some inputs do not have OOB scores. This probably means too few trees were used to compute any reliable OOB estimates.\n",
      "  warn(\n",
      "C:\\Users\\plays\\anaconda3\\envs\\stroke_project\\lib\\site-packages\\sklearn\\ensemble\\_forest.py:586: UserWarning: Some inputs do not have OOB scores. This probably means too few trees were used to compute any reliable OOB estimates.\n",
      "  warn(\n",
      "C:\\Users\\plays\\anaconda3\\envs\\stroke_project\\lib\\site-packages\\sklearn\\ensemble\\_forest.py:586: UserWarning: Some inputs do not have OOB scores. This probably means too few trees were used to compute any reliable OOB estimates.\n",
      "  warn(\n",
      "C:\\Users\\plays\\anaconda3\\envs\\stroke_project\\lib\\site-packages\\sklearn\\ensemble\\_forest.py:586: UserWarning: Some inputs do not have OOB scores. This probably means too few trees were used to compute any reliable OOB estimates.\n",
      "  warn(\n"
     ]
    },
    {
     "data": {
      "text/plain": [
       "<AxesSubplot:xlabel='n'>"
      ]
     },
     "execution_count": 81,
     "metadata": {},
     "output_type": "execute_result"
    },
    {
     "data": {
      "image/png": "[encoded data removed]",
      "text/plain": [
       "<Figure size 432x288 with 1 Axes>"
      ]
     },
     "metadata": {
      "needs_background": "light"
     },
     "output_type": "display_data"
    }
   ],
   "source": [
    "from sklearn.metrics import recall_score\n",
    "oob_scores=[]\n",
    "recalls=[]\n",
    "for n in range(1,501):\n",
    "    n_estimators=n\n",
    "    model=RandomForestClassifier(n_estimators=n, criterion='entropy',max_depth=5,random_state=10,oob_score=True)\n",
    "    model.fit(X_train_over,y_train_over)\n",
    "    oob_scores.append(model.oob_score_)\n",
    "    recalls.append(recall_score(pred,y_test))\n",
    "data=pd.DataFrame({'n':np.arange(1,501), 'recall':recalls})\n",
    "data.plot(x='n',y='recall')"
   ]
  },
  {
   "cell_type": "code",
   "execution_count": 73,
   "id": "43c90804",
   "metadata": {},
   "outputs": [
    {
     "name": "stderr",
     "output_type": "stream",
     "text": [
      "C:\\Users\\plays\\anaconda3\\envs\\stroke_project\\lib\\site-packages\\xgboost\\sklearn.py:1224: UserWarning: The use of label encoder in XGBClassifier is deprecated and will be removed in a future release. To remove this warning, do the following: 1) Pass option use_label_encoder=False when constructing XGBClassifier object; and 2) Encode your labels (y) as integers starting with 0, i.e. 0, 1, 2, ..., [num_class - 1].\n",
      "  warnings.warn(label_encoder_deprecation_msg, UserWarning)\n",
      "C:\\Users\\plays\\anaconda3\\envs\\stroke_project\\lib\\site-packages\\xgboost\\data.py:250: FutureWarning: pandas.Int64Index is deprecated and will be removed from pandas in a future version. Use pandas.Index with the appropriate dtype instead.\n",
      "  elif isinstance(data.columns, (pd.Int64Index, pd.RangeIndex)):\n"
     ]
    },
    {
     "name": "stdout",
     "output_type": "stream",
     "text": [
      "[22:05:52] WARNING: ..\\src\\learner.cc:1115: Starting in XGBoost 1.3.0, the default evaluation metric used with the objective 'binary:logistic' was changed from 'error' to 'logloss'. Explicitly set eval_metric if you'd like to restore the old behavior.\n",
      "              precision    recall  f1-score   support\n",
      "\n",
      "           0       0.82      0.87      0.84        75\n",
      "           1       0.29      0.22      0.25        18\n",
      "\n",
      "    accuracy                           0.74        93\n",
      "   macro avg       0.55      0.54      0.55        93\n",
      "weighted avg       0.72      0.74      0.73        93\n",
      "\n"
     ]
    }
   ],
   "source": [
    "from xgboost import XGBClassifier\n",
    "clf_xgb=XGBClassifier()\n",
    "clf_xgb.fit(X_train_over,y_train_over)\n",
    "clf_xgb_pred=model.predict(X_test)\n",
    "report=classification_report(clf_xgb_pred,y_test)\n",
    "print(report)"
   ]
  },
  {
   "cell_type": "code",
   "execution_count": null,
   "id": "01aced50",
   "metadata": {},
   "outputs": [],
   "source": []
  }
 ],
 "metadata": {
  "kernelspec": {
   "display_name": "[stroke_survival]",
   "language": "python",
   "name": "stroke_project"
  },
  "language_info": {
   "codemirror_mode": {
    "name": "ipython",
    "version": 3
   },
   "file_extension": ".py",
   "mimetype": "text/x-python",
   "name": "python",
   "nbconvert_exporter": "python",
   "pygments_lexer": "ipython3",
   "version": "3.10.4"
  }
 },
 "nbformat": 4,
 "nbformat_minor": 5
}
